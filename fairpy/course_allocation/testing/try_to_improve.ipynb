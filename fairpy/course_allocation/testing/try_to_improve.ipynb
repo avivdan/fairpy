{
 "cells": [
  {
   "attachments": {},
   "cell_type": "markdown",
   "metadata": {},
   "source": [
    "try to parellize sort function algorithm 2 (sort by alpha error)"
   ]
  },
  {
   "cell_type": "code",
   "execution_count": 5,
   "metadata": {
    "notebookRunGroups": {
     "groupValue": "12"
    }
   },
   "outputs": [],
   "source": [
    "import random\n",
    "import concurrent.futures\n",
    "import time\n",
    "WORKERS = 4"
   ]
  },
  {
   "cell_type": "code",
   "execution_count": 6,
   "metadata": {
    "notebookRunGroups": {
     "groupValue": "12"
    }
   },
   "outputs": [],
   "source": [
    "def process_copy_mod(lst : list[float]):\n",
    "    return sum([i**2 for i in lst])\n",
    "\n",
    "def process_copy(lst : list[float], i:int):\n",
    "    return sum([i**2 for i in lst]), i, lst"
   ]
  },
  {
   "cell_type": "code",
   "execution_count": 14,
   "metadata": {
    "notebookRunGroups": {
     "groupValue": "12"
    }
   },
   "outputs": [],
   "source": [
    "lists = [[random.randint(1,999) for _ in range(3)] for _ in range(3)]"
   ]
  },
  {
   "cell_type": "code",
   "execution_count": 8,
   "metadata": {
    "notebookRunGroups": {
     "groupValue": "1"
    }
   },
   "outputs": [
    {
     "name": "stdout",
     "output_type": "stream",
     "text": [
      "1.7066845893859863\n"
     ]
    }
   ],
   "source": [
    "start_time = time.time()\n",
    "results = []\n",
    "with concurrent.futures.ThreadPoolExecutor(max_workers=WORKERS) as executor:\n",
    "    futures = [executor.submit(process_copy, lists[i], i) for i in range(len(lists))] \n",
    "    for future in concurrent.futures.as_completed(futures):   # return each result as soon as it is completed:\n",
    "        results.append(future.result())\n",
    "results.sort(key=lambda x: x[0])\n",
    "results = [x[2] for x in results]\n",
    "print(time.time() - start_time)"
   ]
  },
  {
   "cell_type": "code",
   "execution_count": 9,
   "metadata": {
    "notebookRunGroups": {
     "groupValue": "2"
    }
   },
   "outputs": [
    {
     "name": "stdout",
     "output_type": "stream",
     "text": [
      "1.2932369709014893\n"
     ]
    }
   ],
   "source": [
    "start_time = time.time()\n",
    "lost = sorted(lists, key=lambda x: process_copy_mod(x))\n",
    "print(time.time() - start_time)"
   ]
  }
 ],
 "metadata": {
  "kernelspec": {
   "display_name": "my-project-env",
   "language": "python",
   "name": "python3"
  },
  "language_info": {
   "codemirror_mode": {
    "name": "ipython",
    "version": 3
   },
   "file_extension": ".py",
   "mimetype": "text/x-python",
   "name": "python",
   "nbconvert_exporter": "python",
   "pygments_lexer": "ipython3",
   "version": "3.10.6"
  },
  "orig_nbformat": 4,
  "vscode": {
   "interpreter": {
    "hash": "8f66b8325218c820aab00ae13e8f42df3751fe4edf84f9af747b3fb5e7443e25"
   }
  }
 },
 "nbformat": 4,
 "nbformat_minor": 2
}
