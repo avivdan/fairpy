{
 "cells": [
  {
   "cell_type": "code",
   "execution_count": 43,
   "metadata": {},
   "outputs": [],
   "source": [
    "from algorithm1 import algorithm1,random,TabuList,copy,map_price_demand,reset_update_prices,cmp_to_key,reset_students,time\n",
    "from algorithm2 import algorithm2,csp_mapping,copy,math,cmp_to_key\n",
    "from algorithm3 import algorithm3,mapping_csp\n"
   ]
  },
  {
   "cell_type": "code",
   "execution_count": null,
   "metadata": {},
   "outputs": [],
   "source": []
  },
  {
   "cell_type": "code",
   "execution_count": 49,
   "metadata": {},
   "outputs": [
    {
     "name": "stdout",
     "output_type": "stream",
     "text": [
      "<Student.Student object at 0x7f048af22410>\n"
     ]
    }
   ],
   "source": [
    "a = Course(name='a', price=2.4, capacity=0, max_capacity=5)\n",
    "b = Course(name='b', price=5, capacity=0, max_capacity=4)\n",
    "c = Course(name='c', price=10.4, capacity=0, max_capacity=5)\n",
    "courses = [a, b, c]\n",
    "s1 = Student(name='s1', budget=18, year=1, courses=[], preferences=([c, b]))\n",
    "s2 = Student(name='s2', budget=18, year=1, courses=[], preferences=([b, c, a]))\n",
    "s3 = Student(name='s3', budget=18, year=1, courses=[], preferences=([b, a]))\n",
    "s4 = Student(name='s4', budget=18, year=1, courses=[], preferences=([a, c]))\n",
    "students = [s1, s2, s3, s4]\n",
    "\n",
    "\n",
    "print(str(s1))"
   ]
  },
  {
   "cell_type": "code",
   "execution_count": 45,
   "metadata": {},
   "outputs": [],
   "source": [
    "i = 1\n",
    "\n",
    "courses = []\n",
    "for k in range(10*i):\n",
    "    name = chr(ord('a') + i)\n",
    "    price = random.randint(3, 15)\n",
    "    capacity = 0\n",
    "    max_capacity = random.randint(3, 10)\n",
    "    courses.append(Course(name=name, price=price,\n",
    "                          capacity=capacity, max_capacity=max_capacity))\n",
    "\n",
    "students = []\n",
    "for p in range(40*i):\n",
    "    name = 's' + str(i+1)\n",
    "    budget = random.randint(15, 25)\n",
    "    year = random.randint(1, 4)\n",
    "    preferences = random.sample(courses, random.randint(3, 7))\n",
    "    students.append(Student(name=name, budget=budget,\n",
    "                            year=year, courses=courses, preferences=preferences))\n",
    "\n",
    "\n",
    "def process_copy(student: Student, i: int):\n",
    "    copy_student = copy.deepcopy(student)\n",
    "    copy_student.preferences = student.preferences[:]\n",
    "    return copy_student, i\n"
   ]
  },
  {
   "cell_type": "code",
   "execution_count": 47,
   "metadata": {},
   "outputs": [
    {
     "name": "stdout",
     "output_type": "stream",
     "text": [
      "<Student.Student object at 0x7f048af22410>\n",
      "<Student.Student object at 0x7f048af6ad10>\n",
      "<Student.Student object at 0x7f048af6bee0>\n",
      "<Student.Student object at 0x7f048af696f0>\n",
      "<Student.Student object at 0x7f048af6bfa0>\n",
      "<Student.Student object at 0x7f048af6a6e0>\n",
      "<Student.Student object at 0x7f048af69810>\n",
      "<Student.Student object at 0x7f048af692d0>\n",
      "<Student.Student object at 0x7f048af68f40>\n",
      "<Student.Student object at 0x7f048af6a500>\n",
      "<Student.Student object at 0x7f048af6aef0>\n",
      "<Student.Student object at 0x7f048af69e10>\n",
      "<Student.Student object at 0x7f048af68af0>\n",
      "<Student.Student object at 0x7f048af69630>\n",
      "<Student.Student object at 0x7f048af6bf70>\n",
      "<Student.Student object at 0x7f048af68190>\n",
      "<Student.Student object at 0x7f048af6b100>\n",
      "<Student.Student object at 0x7f04a8b85ae0>\n",
      "<Student.Student object at 0x7f04a8b846d0>\n",
      "<Student.Student object at 0x7f04a8b859c0>\n",
      "<Student.Student object at 0x7f04a8b84be0>\n",
      "<Student.Student object at 0x7f04a8b84220>\n",
      "<Student.Student object at 0x7f04a8b85c30>\n",
      "<Student.Student object at 0x7f04a8b84760>\n",
      "<Student.Student object at 0x7f04a8b848e0>\n",
      "<Student.Student object at 0x7f04a8b863e0>\n",
      "<Student.Student object at 0x7f04a8b877c0>\n",
      "<Student.Student object at 0x7f04a8b85a80>\n",
      "<Student.Student object at 0x7f04a8b86b60>\n",
      "<Student.Student object at 0x7f04a8b87190>\n",
      "<Student.Student object at 0x7f04a8b854e0>\n",
      "<Student.Student object at 0x7f04a81e4820>\n",
      "<Student.Student object at 0x7f04a81e5240>\n",
      "<Student.Student object at 0x7f048af05a80>\n",
      "<Student.Student object at 0x7f048af04c10>\n",
      "<Student.Student object at 0x7f048af053c0>\n",
      "<Student.Student object at 0x7f048af07d90>\n",
      "<Student.Student object at 0x7f048af05300>\n",
      "<Student.Student object at 0x7f048af04640>\n",
      "<Student.Student object at 0x7f048af05c00>\n",
      "<method-wrapper '__str__' of Student object at 0x7f04a8b699c0>\n",
      "<method-wrapper '__str__' of Student object at 0x7f048af2e110>\n",
      "<method-wrapper '__str__' of Student object at 0x7f04a80fc850>\n",
      "<method-wrapper '__str__' of Student object at 0x7f048af6b8e0>\n",
      "<method-wrapper '__str__' of Student object at 0x7f048af6a6b0>\n",
      "<method-wrapper '__str__' of Student object at 0x7f04a81f46a0>\n",
      "<method-wrapper '__str__' of Student object at 0x7f04a81f5c90>\n",
      "<method-wrapper '__str__' of Student object at 0x7f04a80fd240>\n",
      "<method-wrapper '__str__' of Student object at 0x7f04a80fd1b0>\n",
      "<method-wrapper '__str__' of Student object at 0x7f048af06f80>\n",
      "<method-wrapper '__str__' of Student object at 0x7f04a811c3d0>\n",
      "<method-wrapper '__str__' of Student object at 0x7f04a811c6a0>\n",
      "<method-wrapper '__str__' of Student object at 0x7f04a811d5a0>\n",
      "<method-wrapper '__str__' of Student object at 0x7f04a8b86fe0>\n",
      "<method-wrapper '__str__' of Student object at 0x7f048af201c0>\n",
      "<method-wrapper '__str__' of Student object at 0x7f04a81ed1b0>\n",
      "<method-wrapper '__str__' of Student object at 0x7f04a81ec1c0>\n",
      "<method-wrapper '__str__' of Student object at 0x7f04a81ee890>\n",
      "<method-wrapper '__str__' of Student object at 0x7f04a81ee980>\n",
      "<method-wrapper '__str__' of Student object at 0x7f04a81ee920>\n",
      "<method-wrapper '__str__' of Student object at 0x7f048af1a230>\n",
      "<method-wrapper '__str__' of Student object at 0x7f048af19030>\n",
      "<method-wrapper '__str__' of Student object at 0x7f048af18a90>\n",
      "<method-wrapper '__str__' of Student object at 0x7f048af19450>\n",
      "<method-wrapper '__str__' of Student object at 0x7f04a81e5990>\n",
      "<method-wrapper '__str__' of Student object at 0x7f04a81e6b60>\n",
      "<method-wrapper '__str__' of Student object at 0x7f04a81e5180>\n",
      "<method-wrapper '__str__' of Student object at 0x7f04a81e4dc0>\n",
      "<method-wrapper '__str__' of Student object at 0x7f04a81e4f10>\n",
      "<method-wrapper '__str__' of Student object at 0x7f04a811c4c0>\n",
      "<method-wrapper '__str__' of Student object at 0x7f048af234c0>\n",
      "<method-wrapper '__str__' of Student object at 0x7f048af22350>\n",
      "<method-wrapper '__str__' of Student object at 0x7f048af20490>\n",
      "<method-wrapper '__str__' of Student object at 0x7f048af22470>\n",
      "<method-wrapper '__str__' of Student object at 0x7f048af22f50>\n",
      "<method-wrapper '__str__' of Student object at 0x7f048af225c0>\n",
      "<method-wrapper '__str__' of Student object at 0x7f048af23b20>\n",
      "<method-wrapper '__str__' of Student object at 0x7f04a81f68f0>\n",
      "<method-wrapper '__str__' of Student object at 0x7f04a81f7490>\n",
      "<method-wrapper '__str__' of Student object at 0x7f04a81f6d70>\n"
     ]
    }
   ],
   "source": [
    "\n",
    "wow = []\n",
    "import concurrent.futures\n",
    "with concurrent.futures.ThreadPoolExecutor(max_workers=4) as executor:\n",
    "    futures = [executor.submit(process_copy, students[i], i) for i in range(len(students))]\n",
    "    # return each result as soon as it is completed:\n",
    "    for future in concurrent.futures.as_completed(futures):\n",
    "        wow.append(future.result())\n",
    "        # wow[future.result()[0]] = future.result()[1]\n",
    "# for s in students:\n",
    "#     wow.append(process_copy(s))\n",
    "# wow = [process_copy(s) for s in students]\n",
    "wow.sort(key=lambda x: x[1])\n",
    "for s in students:\n",
    "    print(str(s))\n",
    "# print([s for s in students])\n",
    "wow = [w[0] for w in wow] \n",
    "for s in wow:\n",
    "    print(s.__str__)\n",
    "# print([s for s in wow])\n",
    "\n",
    "# print(students)\n",
    "\n",
    "# max_budget = 18\n",
    "# price_vector1 = algorithm1(courses=courses,max_budget=max_budget, seed=3, students=students,time_to=1)\n",
    "# map_price_demand(price_vector=price_vector1,courses=courses,max_budget=max_budget,students=students)\n",
    "# price_vector=[course.price for course in courses]\n",
    "# p_scalar = (max_budget- 0.1)\n",
    "# eps=0.5\n"
   ]
  },
  {
   "cell_type": "code",
   "execution_count": null,
   "metadata": {},
   "outputs": [],
   "source": []
  },
  {
   "cell_type": "code",
   "execution_count": 98,
   "metadata": {},
   "outputs": [
    {
     "name": "stdout",
     "output_type": "stream",
     "text": [
      "3.6000000000000014\n"
     ]
    }
   ],
   "source": [
    "print(students[2].budget)"
   ]
  },
  {
   "cell_type": "code",
   "execution_count": 103,
   "metadata": {},
   "outputs": [],
   "source": [
    "import json\n",
    "\n",
    "def save_to_json(file_name: str) -> bool:\n",
    "    \"\"\"\n",
    "    Saves the graph in JSON format to a file\n",
    "    @param file_name: The path to the out file\n",
    "    @return: True if the save was successful, False o.w.\n",
    "    \"\"\"\n",
    "    with open(file_name, 'w') as file:  # Write to file\n",
    "        try:\n",
    "            d = {\"students\": [], \"courses\": []}\n",
    "            for student in students:\n",
    "                d[\"students\"].append({\n",
    "                    \"name\": student.name,\n",
    "                    \"budget\": student.budget,\n",
    "                    \"preferences\": json.dumps([course.name for course in student.preferences]),\n",
    "                    \"courses\": json.dumps([course.name for course in student.courses]),\n",
    "                    \"year\": student.year\n",
    "                })\n",
    "            for course in courses:\n",
    "                d[\"courses\"].append({\n",
    "                    \"name\": course.name,\n",
    "                    \"price\": course.price,\n",
    "                    \"max_capacity\": course.max_capacity,\n",
    "                    \"capacity\": course.capacity\n",
    "                })\n",
    "            d[\"price_vector\"] = json.dumps([course.price for course in courses])\n",
    "            d[\"maximum\"] = p_scalar\n",
    "            d[\"eps\"] = eps\n",
    "            json.dump(d, file)  # Stores d into file\n",
    "            return True\n",
    "        except Exception as e:\n",
    "            print(e)\n",
    "            return False\n",
    "        finally:\n",
    "            file.close()\n",
    "    # raise NotImplementedError\n"
   ]
  },
  {
   "cell_type": "code",
   "execution_count": 104,
   "metadata": {},
   "outputs": [
    {
     "data": {
      "text/plain": [
       "True"
      ]
     },
     "execution_count": 104,
     "metadata": {},
     "output_type": "execute_result"
    }
   ],
   "source": [
    "save_to_json(file_name=\"wow.txt\")"
   ]
  },
  {
   "cell_type": "code",
   "execution_count": 110,
   "metadata": {},
   "outputs": [],
   "source": [
    "def load_from_json(file_name: str) -> bool:\n",
    "    \"\"\"\n",
    "    Loads a graph from a json file.\n",
    "    @param file_name: The path to the json file\n",
    "    @returns True if the loading was successful, False o.w.\n",
    "    \"\"\"\n",
    "    try:\n",
    "        with open(file_name) as file:\n",
    "            s = json.load(file)\n",
    "            courses = []\n",
    "            for course in s[\"courses\"]:\n",
    "                courses.append(\n",
    "                    Course(name=course[\"name\"], price = course[\"price\"],\n",
    "                        max_capacity= course[\"max_capacity\"], capacity=course[\"capacity\"])\n",
    "                )\n",
    "            helper = {course.name:course for course in courses}\n",
    "\n",
    "            students = []\n",
    "            for student in s[\"students\"]:\n",
    "                # pref = student[\"preferences\"].split(\",\")\n",
    "                preferences=json.loads(student[\"preferences\"])\n",
    "                students.append(\n",
    "                    Student(name=student[\"name\"], budget=student[\"budget\"],\n",
    "                        preferences=[helper[pre] for pre in preferences],\n",
    "                        courses=[]\n",
    "                    )\n",
    "                )\n",
    "            price_vector = json.loads(s[\"price_vector\"])\n",
    "            maximum = s[\"maximum\"]\n",
    "            eps = s[\"eps\"]\n",
    "            return True\n",
    "    except Exception as e:\n",
    "        print(e)\n",
    "        return False\n",
    "    finally:\n",
    "        file.close()\n"
   ]
  },
  {
   "cell_type": "code",
   "execution_count": 111,
   "metadata": {},
   "outputs": [
    {
     "name": "stdout",
     "output_type": "stream",
     "text": [
      "'price_vector'\n"
     ]
    },
    {
     "data": {
      "text/plain": [
       "False"
      ]
     },
     "execution_count": 111,
     "metadata": {},
     "output_type": "execute_result"
    }
   ],
   "source": [
    "load_from_json(\"wow.txt\")\n"
   ]
  },
  {
   "cell_type": "code",
   "execution_count": null,
   "metadata": {},
   "outputs": [],
   "source": []
  },
  {
   "cell_type": "code",
   "execution_count": 84,
   "metadata": {},
   "outputs": [],
   "source": [
    "import random\n",
    "import time\n",
    "from Course import Course\n",
    "from Student import Student\n",
    "from algorithm1 import algorithm1, Course, Student, random, TabuList, copy, map_price_demand, reset_update_prices, cmp_to_key, reset_students, time\n"
   ]
  },
  {
   "cell_type": "code",
   "execution_count": 85,
   "metadata": {},
   "outputs": [
    {
     "ename": "IndentationError",
     "evalue": "unexpected indent (326770922.py, line 14)",
     "output_type": "error",
     "traceback": [
      "\u001b[0;36m  Cell \u001b[0;32mIn[85], line 14\u001b[0;36m\u001b[0m\n\u001b[0;31m    capacity = capacity, max_capacity = max_capacity))\u001b[0m\n\u001b[0m    ^\u001b[0m\n\u001b[0;31mIndentationError\u001b[0m\u001b[0;31m:\u001b[0m unexpected indent\n"
     ]
    }
   ],
   "source": [
    "random.seed(3)\n",
    "times = []\n",
    "for i in range(1, 2):\n",
    "    start_time = time.time()\n",
    "    # Generate 10 courses\n",
    "    courses = []\n",
    "    for i in range(10*i):\n",
    "        name = chr(ord('a') + i)\n",
    "        price = random.randint(3, 15)\n",
    "        capacity = 0\n",
    "        max_capacity = random.randint(3, 10)\n",
    "        courses.append(Course(name=name, price=price,\n",
    "                       capacity=capacity, max_capacity=max_capacity))\n",
    "                       capacity = capacity, max_capacity = max_capacity))\n",
    "\n",
    "        # Generate 40 students\n",
    "    students=[]\n",
    "    for i in range(40*i):\n",
    "        name='s' + str(i+1)\n",
    "        budget=random.randint(15, 25)\n",
    "        year=random.randint(1, 4)\n",
    "        students.append(Student(name = name, budget = budget,\n",
    "                        year = year, courses = courses, preferences = preferences))\n",
    "        students.append(Student(name = name, budget = budget,\n",
    "                        year = year, courses = courses, preferences = preferences))\n",
    "    times.append((time.time() - start_time))\n"
   ]
  },
  {
   "cell_type": "code",
   "execution_count": null,
   "metadata": {},
   "outputs": [
    {
     "name": "stderr",
     "output_type": "stream",
     "text": [
      "best error is 79264 \n",
      "best error is 62215 \n",
      "best error is 43579 \n",
      "best error is 39274 \n"
     ]
    }
   ],
   "source": [
    "# start_time = time.time()\n",
    "max_budget = 25\n",
    "price_vector1 = algorithm1(\n",
    "    courses=courses, max_budget=max_budget, seed=3, students=students, time_to=10)\n",
    "# print(time.time() - start_time)\n",
    "# print(time.time() - start_time)\n"
   ]
  },
  {
   "cell_type": "code",
   "execution_count": null,
   "metadata": {},
   "outputs": [
    {
     "name": "stderr",
     "output_type": "stream",
     "text": [
      "best error is 76532 \n",
      "best error is 57433 \n",
      "best error is 39816 \n",
      "best error is 37061 \n"
     ]
    }
   ],
   "source": [
    "# start_time = time.time()\n",
    "max_budget = 25\n",
    "price_vector1 = algorithm1(\n",
    "    courses=courses, max_budget=max_budget, seed=3, students=students, time_to=10)\n",
    "# print(time.time() - start_time)\n",
    "# print(time.time() - start_time)\n"
   ]
  }
 ],
 "metadata": {
  "kernelspec": {
   "display_name": "Python 3",
   "language": "python",
   "name": "python3"
  },
  "language_info": {
   "codemirror_mode": {
    "name": "ipython",
    "version": 3
   },
   "file_extension": ".py",
   "mimetype": "text/x-python",
   "name": "python",
   "nbconvert_exporter": "python",
   "pygments_lexer": "ipython3",
   "version": "3.10.6"
  },
  "orig_nbformat": 4,
  "vscode": {
   "interpreter": {
    "hash": "916dbcbb3f70747c44a77c7bcd40155683ae19c65e1c03b4aa3499c5328201f1"
   }
  }
 },
 "nbformat": 4,
 "nbformat_minor": 2
}
