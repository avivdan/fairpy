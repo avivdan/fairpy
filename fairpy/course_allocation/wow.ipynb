{
 "cells": [
  {
   "cell_type": "code",
   "execution_count": 5,
   "metadata": {},
   "outputs": [
    {
     "name": "stdout",
     "output_type": "stream",
     "text": [
      "4 processes: answers=[True, True, True, False, False, True, False, True], time=2.2609989960001258 sec\n"
     ]
    }
   ],
   "source": [
    "import time, math\n",
    "import concurrent.futures\n",
    "WORKERS=4\n",
    "\n",
    "NUMBERS = [\n",
    "    112272535095293,\n",
    "    112582705942171,\n",
    "    112272535095293,\n",
    "    115280095190773,\n",
    "    115797848077099,\n",
    "    1099726899285419,\n",
    "    432353452334352,\n",
    "    342545345343445]\n",
    "\n",
    "def is_prime(n):\n",
    "    if n < 2:\n",
    "        return False\n",
    "    if n == 2:\n",
    "        return True\n",
    "    if n % 2 == 0:\n",
    "        return False\n",
    "    sqrt_n = int(math.floor(math.sqrt(n)))\n",
    "    for i in range(3, sqrt_n + 1, 2):\n",
    "        if n % i == 0:\n",
    "            return False\n",
    "    return True\n",
    "\n",
    "def sequential():\n",
    "    start = time.perf_counter()\n",
    "    answers = [is_prime(p) for p in NUMBERS]\n",
    "    print(f\"Sequential: answers={answers}, time={time.perf_counter()-start} sec\")\n",
    "\n",
    "def threads():\n",
    "    start = time.perf_counter()\n",
    "    b = 0 \n",
    "    with concurrent.futures.ThreadPoolExecutor(max_workers=WORKERS) as executor:\n",
    "        futures = [executor.submit(is_prime, p,b) for p in NUMBERS] \n",
    "        answers = []\n",
    "        for future in concurrent.futures.as_completed(futures):   # return each result as soon as it is completed:\n",
    "            answers.append(future.result())\n",
    "    print(f\"{WORKERS} threads: answers={answers}, time={time.perf_counter()-start} sec\")\n",
    "\n",
    "def processes():\n",
    "    start = time.perf_counter()\n",
    "    with concurrent.futures.ProcessPoolExecutor(max_workers=WORKERS) as executor:\n",
    "        futures = [executor.submit(is_prime, p) for p in NUMBERS] \n",
    "        answers = []\n",
    "        for future in concurrent.futures.as_completed(futures):   # return each result as soon as it is completed:\n",
    "            answers.append(future.result())\n",
    "    print(f\"{WORKERS} processes: answers={answers}, time={time.perf_counter()-start} sec\")\n",
    "\n",
    "\n",
    "if __name__ == '__main__':\n",
    "    # sequential()\n",
    "    # threads()\n",
    "    processes()"
   ]
  },
  {
   "cell_type": "code",
   "execution_count": 23,
   "metadata": {},
   "outputs": [],
   "source": [
    "from Student import Student\n",
    "from Course import Course"
   ]
  },
  {
   "cell_type": "code",
   "execution_count": 24,
   "metadata": {},
   "outputs": [
    {
     "name": "stdout",
     "output_type": "stream",
     "text": [
      "{<Student.Student object at 0x7ff5241922f0>: 0, <Student.Student object at 0x7ff5241916c0>: 0, <Student.Student object at 0x7ff524191900>: 2, <Student.Student object at 0x7ff524193520>: 1}\n"
     ]
    }
   ],
   "source": [
    "def ret_2(i):\n",
    "    return 1+i,(2+i)%3\n",
    "a = Course(name='a', price=2.4, capacity=0, max_capacity=5)\n",
    "b = Course(name='b', price=5, capacity=0, max_capacity=4)\n",
    "c = Course(name='c', price=10.4, capacity=0, max_capacity=5)\n",
    "courses = [a, b, c]\n",
    "s1 = Student(name='s1', budget=18, year=1, courses=[], preferences=([c, b]))\n",
    "s2 = Student(name='s2', budget=18, year=1, courses=[], preferences=([b, c, a]))\n",
    "s3 = Student(name='s3', budget=18, year=1, courses=[], preferences=([b, a]))\n",
    "s4 = Student(name='s4', budget=18, year=1, courses=[], preferences=([a, c]))\n",
    "dic = {}\n",
    "dic[s1] = ret_2(1)[1]\n",
    "dic[s2] = ret_2(4)[1]\n",
    "dic[s3] = ret_2(3)[1]\n",
    "dic[s4] = ret_2(2)[1]\n",
    "print(dic)"
   ]
  },
  {
   "cell_type": "code",
   "execution_count": 26,
   "metadata": {},
   "outputs": [
    {
     "ename": "TypeError",
     "evalue": "dict.items() takes no arguments (1 given)",
     "output_type": "error",
     "traceback": [
      "\u001b[0;31m---------------------------------------------------------------------------\u001b[0m",
      "\u001b[0;31mTypeError\u001b[0m                                 Traceback (most recent call last)",
      "Cell \u001b[0;32mIn[26], line 1\u001b[0m\n\u001b[0;32m----> 1\u001b[0m sorteda \u001b[39m=\u001b[39m \u001b[39msorted\u001b[39;49m(dic\u001b[39m.\u001b[39;49mitems(), key \u001b[39m=\u001b[39;49m dic\u001b[39m.\u001b[39;49mitems)\n\u001b[1;32m      2\u001b[0m sorteda\n\u001b[1;32m      3\u001b[0m a \u001b[39m=\u001b[39m [b[\u001b[39m0\u001b[39m] \u001b[39mfor\u001b[39;00m b \u001b[39min\u001b[39;00m sorteda]\n",
      "\u001b[0;31mTypeError\u001b[0m: dict.items() takes no arguments (1 given)"
     ]
    }
   ],
   "source": [
    "sorteda = sorted(dic.items(),key=lambda x:x[1])\n",
    "sorteda\n",
    "a = [b[0] for b in sorteda]\n",
    "a\n",
    "# a = sorteda.keys()"
   ]
  }
 ],
 "metadata": {
  "kernelspec": {
   "display_name": "my-project-env",
   "language": "python",
   "name": "python3"
  },
  "language_info": {
   "codemirror_mode": {
    "name": "ipython",
    "version": 3
   },
   "file_extension": ".py",
   "mimetype": "text/x-python",
   "name": "python",
   "nbconvert_exporter": "python",
   "pygments_lexer": "ipython3",
   "version": "3.10.6"
  },
  "orig_nbformat": 4,
  "vscode": {
   "interpreter": {
    "hash": "8f66b8325218c820aab00ae13e8f42df3751fe4edf84f9af747b3fb5e7443e25"
   }
  }
 },
 "nbformat": 4,
 "nbformat_minor": 2
}
