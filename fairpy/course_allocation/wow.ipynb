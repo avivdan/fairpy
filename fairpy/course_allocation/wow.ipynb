{
 "cells": [
  {
   "cell_type": "code",
   "execution_count": 1,
   "metadata": {},
   "outputs": [],
   "source": [
    "import logging"
   ]
  },
  {
   "cell_type": "code",
   "execution_count": 3,
   "metadata": {},
   "outputs": [
    {
     "name": "stderr",
     "output_type": "stream",
     "text": [
      "Discriminant is negative!\n"
     ]
    },
    {
     "name": "stdout",
     "output_type": "stream",
     "text": [
      "(2.0, -2.0)\n",
      "(0, 0)\n"
     ]
    }
   ],
   "source": [
    "import logging\n",
    "logger = logging.getLogger(\"hey\")\n",
    "console = logging.StreamHandler()  # writes to stderr (= cerr)\n",
    "logger.handlers = [console]\n",
    "\n",
    "# Example function\n",
    "def quadratic_formula(a:float, b:float ,c:float) -> float:\n",
    "    \"\"\" Returns the real solutions to the equation ax^2 + bx + c = 0  \"\"\"\n",
    "    import math\n",
    "    # logger.info(f'quadratic_formula({a},{b},{c})')  # NOTE: We deliberately use the old-style C format below, and NOT the f-string.\n",
    "    logger.info('quadratic_formula(%g,%g,%g)', a, b, c)\n",
    "    discri = b**2 - 4*a*c\n",
    "    logger.debug('Compute the discriminant: %g', discri)\n",
    "    if discri<0:\n",
    "        logger.warning('Discriminant is negative!')\n",
    "        return (0,0)\n",
    "    root_a = (-b + math.sqrt(discri))/(2*a)\n",
    "    logger.debug('Compute the positive root: %g', root_a)\n",
    "    root_b = (-b - math.sqrt(discri))/(2*a)\n",
    "    logger.debug('Compute the negative root: %g', root_b)\n",
    "    return root_a , root_b\n",
    "\n",
    "print(quadratic_formula(1, 0, -4))\n",
    "print(quadratic_formula(1, 0, 4))"
   ]
  }
 ],
 "metadata": {
  "kernelspec": {
   "display_name": "my-project-env",
   "language": "python",
   "name": "python3"
  },
  "language_info": {
   "codemirror_mode": {
    "name": "ipython",
    "version": 3
   },
   "file_extension": ".py",
   "mimetype": "text/x-python",
   "name": "python",
   "nbconvert_exporter": "python",
   "pygments_lexer": "ipython3",
   "version": "3.10.6"
  },
  "orig_nbformat": 4,
  "vscode": {
   "interpreter": {
    "hash": "8f66b8325218c820aab00ae13e8f42df3751fe4edf84f9af747b3fb5e7443e25"
   }
  }
 },
 "nbformat": 4,
 "nbformat_minor": 2
}
